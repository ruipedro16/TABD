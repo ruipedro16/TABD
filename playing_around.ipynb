{
 "cells": [
  {
   "cell_type": "code",
   "execution_count": 150,
   "metadata": {},
   "outputs": [],
   "source": [
    "import psycopg2\n",
    "import matplotlib.pyplot as plt\n",
    "import numpy as np\n",
    "import pandas as pd"
   ]
  },
  {
   "cell_type": "code",
   "execution_count": 45,
   "metadata": {},
   "outputs": [],
   "source": [
    "user=\"postgres\"\n",
    "password=\"\""
   ]
  },
  {
   "cell_type": "code",
   "execution_count": 46,
   "metadata": {},
   "outputs": [],
   "source": [
    "def make_query(host, database, user, password, query):\n",
    "\n",
    "    conn = psycopg2.connect(\n",
    "        host=host,\n",
    "        database=database,\n",
    "        user=user,\n",
    "        password=password\n",
    "    )\n",
    "\n",
    "    cur = conn.cursor()\n",
    "    cur.execute(query)\n",
    "\n",
    "    results = cur.fetchall()\n",
    "    cols = [desc[0] for desc in cur.description]\n",
    "\n",
    "    conn.close()\n",
    "\n",
    "    return results, cols\n",
    "\n"
   ]
  },
  {
   "cell_type": "code",
   "execution_count": 47,
   "metadata": {},
   "outputs": [],
   "source": [
    "query = '''\n",
    "SELECT \n",
    "\tCOUNT(nation) count_nation,\n",
    "\tnation\n",
    "FROM db_annp.athlete\n",
    "GROUP BY nation \n",
    "ORDER BY count_nation DESC;\n",
    "'''"
   ]
  },
  {
   "cell_type": "code",
   "execution_count": 48,
   "metadata": {},
   "outputs": [],
   "source": [
    "res, cols = make_query(host=\"localhost\", database=\"postgres\", user=user, password=password, query=query)"
   ]
  },
  {
   "cell_type": "code",
   "execution_count": 49,
   "metadata": {},
   "outputs": [
    {
     "data": {
      "image/png": "[encoded data removed]",
      "text/plain": [
       "<Figure size 432x288 with 1 Axes>"
      ]
     },
     "metadata": {
      "needs_background": "light"
     },
     "output_type": "display_data"
    }
   ],
   "source": [
    "xx = list()\n",
    "yy = list()\n",
    "\n",
    "for i in range(len(res)):\n",
    "    xx.append(res[i][0])\n",
    "    yy.append(res[i][1])\n",
    "plt.bar(x=yy, height=xx)\n",
    "plt.show()"
   ]
  },
  {
   "cell_type": "code",
   "execution_count": 184,
   "metadata": {},
   "outputs": [],
   "source": [
    "query = '''\n",
    "SELECT \n",
    "\tCOUNT(gender) count_gender,\n",
    "\tgender\n",
    "FROM db_annp.athlete\n",
    "GROUP BY gender \n",
    "ORDER BY count_gender DESC;\n",
    "'''"
   ]
  },
  {
   "cell_type": "code",
   "execution_count": 185,
   "metadata": {},
   "outputs": [],
   "source": [
    "res, cols = make_query(host=\"localhost\", database=\"postgres\", user=\"postgres\", password=\"asdasd\", query=query)"
   ]
  },
  {
   "cell_type": "code",
   "execution_count": 52,
   "metadata": {},
   "outputs": [
    {
     "data": {
      "image/png": "[encoded data removed]",
      "text/plain": [
       "<Figure size 432x288 with 1 Axes>"
      ]
     },
     "metadata": {
      "needs_background": "light"
     },
     "output_type": "display_data"
    }
   ],
   "source": [
    "xx = list()\n",
    "yy = list()\n",
    "\n",
    "for i in range(len(res)):\n",
    "    xx.append(res[i][0])\n",
    "    yy.append(res[i][1])\n",
    "plt.bar(x=yy, height=xx)\n",
    "plt.show()"
   ]
  },
  {
   "cell_type": "code",
   "execution_count": 271,
   "metadata": {},
   "outputs": [],
   "source": [
    "query = '''\n",
    "    SELECT \n",
    "        nation,\n",
    "        gender,\n",
    "        count(*)\n",
    "    FROM db_annp.athlete\n",
    "    GROUP BY CUBE (nation, gender)\n",
    "    ORDER BY nation, gender NULLS LAST;\n",
    "'''"
   ]
  },
  {
   "cell_type": "code",
   "execution_count": 272,
   "metadata": {},
   "outputs": [],
   "source": [
    "res, cols = make_query(host=\"localhost\", database=\"postgres\", user=\"postgres\", password=\"asdasd\", query=query)"
   ]
  },
  {
   "cell_type": "code",
   "execution_count": 317,
   "metadata": {},
   "outputs": [],
   "source": [
    "def get_info_for_bars(res):\n",
    "\n",
    "    countries = []\n",
    "    gender = []\n",
    "    for el in res:\n",
    "        if el[0] not in countries and el[0] is not None:\n",
    "            countries.append(el[0])\n",
    "        elif el[1] not in gender and el[1] is not None:\n",
    "            gender.append(el[1])\n",
    "        else:\n",
    "                pass\n",
    "\n",
    "    nat_gen = [(c, g) for c in countries for g in gender]\n",
    "\n",
    "    resn = []\n",
    "    for el in res:\n",
    "        if el[0] is None or el[1] is None:\n",
    "            pass\n",
    "        else:\n",
    "            resn.append((el[0], el[1]))\n",
    "    \n",
    "    diff = list(set(nat_gen) - set(resn))\n",
    "    \n",
    "    for i in range(len(diff)):\n",
    "        diff[i] = diff[i] + (0,)\n",
    "    \n",
    "    res_f = []\n",
    "    for el in res:\n",
    "        if el[0] is None or el[1] is None:\n",
    "            pass\n",
    "        else:\n",
    "            res_f.append((el[0], el[1], el[2]))\n",
    "    \n",
    "    res_f = (res_f + diff)\n",
    "    res_f.sort()\n",
    "    count_female = []\n",
    "    count_male = []\n",
    "\n",
    "    for row in res_f:\n",
    "        if row[1] == \"F\":\n",
    "            count_female.append(row[2])\n",
    "        elif row[1] == \"M\":\n",
    "            count_male.append(row[2])\n",
    "        else:\n",
    "            pass\n",
    "        \n",
    "    return countries, count_male, count_female"
   ]
  },
  {
   "cell_type": "code",
   "execution_count": 318,
   "metadata": {},
   "outputs": [],
   "source": [
    "countries, count_male, count_female = get_info_for_bars(res)"
   ]
  },
  {
   "cell_type": "code",
   "execution_count": 319,
   "metadata": {},
   "outputs": [
    {
     "data": {
      "image/png": "[encoded data removed]",
      "text/plain": [
       "<Figure size 900x600 with 1 Axes>"
      ]
     },
     "metadata": {
      "needs_background": "light"
     },
     "output_type": "display_data"
    }
   ],
   "source": [
    "count_male\n",
    "count_female\n",
    "countries\n",
    "\n",
    "x = np.arange(len(countries))  # the label locations\n",
    "width = 0.35  # the width of the bars\n",
    "\n",
    "fig, ax = plt.subplots(dpi=150)\n",
    "rects1 = ax.bar(x - width/2, count_male, width, label='Men')\n",
    "rects2 = ax.bar(x + width/2, count_female, width, label='Women')\n",
    "\n",
    "# Add some text for labels, title and custom x-axis tick labels, etc.\n",
    "ax.set_ylabel('Participans')\n",
    "ax.set_title('Participants by country and gender')\n",
    "ax.set_xticks(x, countries)\n",
    "ax.legend()\n",
    "\n",
    "ax.bar_label(rects1, padding=3)\n",
    "ax.bar_label(rects2, padding=3)\n",
    "\n",
    "fig.tight_layout()\n",
    "\n",
    "plt.show()"
   ]
  },
  {
   "cell_type": "code",
   "execution_count": null,
   "metadata": {},
   "outputs": [],
   "source": []
  }
 ],
 "metadata": {
  "interpreter": {
   "hash": "c908b28735814d50545228233edbddaee20c82ceb99cd178eecb608ec1603818"
  },
  "kernelspec": {
   "display_name": "Python 3.9.7 ('base')",
   "language": "python",
   "name": "python3"
  },
  "language_info": {
   "codemirror_mode": {
    "name": "ipython",
    "version": 3
   },
   "file_extension": ".py",
   "mimetype": "text/x-python",
   "name": "python",
   "nbconvert_exporter": "python",
   "pygments_lexer": "ipython3",
   "version": "3.9.7"
  },
  "orig_nbformat": 4
 },
 "nbformat": 4,
 "nbformat_minor": 2
}
